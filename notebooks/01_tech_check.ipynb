{
  "cells": [
    {
      "cell_type": "markdown",
      "metadata": {
        "id": "view-in-github",
        "colab_type": "text"
      },
      "source": [
        "<a href=\"https://colab.research.google.com/github/aziafrin/DS_Summar_School/blob/Intro-to-python/notebooks/01_tech_check.ipynb\" target=\"_parent\"><img src=\"https://colab.research.google.com/assets/colab-badge.svg\" alt=\"Open In Colab\"/></a>"
      ]
    },
    {
      "cell_type": "markdown",
      "id": "e110c140-b066-405d-9423-6ade0fa20967",
      "metadata": {
        "id": "e110c140-b066-405d-9423-6ade0fa20967"
      },
      "source": [
        "# Colab Notebook\n",
        "\n",
        "Hello! This is an online coding notebook hosted by Google.\n",
        "\n",
        "If you don't know how to use it, watch me demonstrate.\n"
      ]
    },
    {
      "cell_type": "code",
      "execution_count": 2,
      "id": "58afce63-1725-4642-a999-a6c378dfe799",
      "metadata": {
        "colab": {
          "base_uri": "https://localhost:8080/"
        },
        "id": "58afce63-1725-4642-a999-a6c378dfe799",
        "outputId": "459a7620-c01a-47b3-9346-825a8025e486"
      },
      "outputs": [
        {
          "output_type": "stream",
          "name": "stdout",
          "text": [
            "Hello Colab!\n"
          ]
        }
      ],
      "source": [
        "print(\"Hello Colab!\")"
      ]
    },
    {
      "cell_type": "code",
      "execution_count": 2,
      "id": "1e385560-e9c9-4a91-a4a4-ee74374a9336",
      "metadata": {
        "id": "1e385560-e9c9-4a91-a4a4-ee74374a9336"
      },
      "outputs": [],
      "source": []
    }
  ],
  "metadata": {
    "kernelspec": {
      "display_name": "Python 3 (ipykernel)",
      "language": "python",
      "name": "python3"
    },
    "language_info": {
      "codemirror_mode": {
        "name": "ipython",
        "version": 3
      },
      "file_extension": ".py",
      "mimetype": "text/x-python",
      "name": "python",
      "nbconvert_exporter": "python",
      "pygments_lexer": "ipython3",
      "version": "3.11.4"
    },
    "colab": {
      "provenance": [],
      "include_colab_link": true
    }
  },
  "nbformat": 4,
  "nbformat_minor": 5
}