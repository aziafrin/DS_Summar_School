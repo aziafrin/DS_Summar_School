{
  "cells": [
    {
      "cell_type": "markdown",
      "metadata": {
        "id": "WBvhF7ZVjUx7"
      },
      "source": [
        "# Crash Course"
      ]
    },
    {
      "cell_type": "markdown",
      "metadata": {
        "id": "SIJr3GgGjUyO"
      },
      "source": [
        "## \"Base\"\n",
        "\n",
        "- Like many languages, Python is enhanced by a great number of \"libraries\".\n",
        "- Libraries extend the functionality of a language, e.g. for data analysis."
      ]
    },
    {
      "cell_type": "markdown",
      "metadata": {
        "id": "zMKH0g_AjUyR"
      },
      "source": [
        "## How much base Python do I need to know?\n",
        "\n",
        "- Varies with application\n",
        "- This course covers minimum needed for data analysis workflow\n",
        "- Deep learning or app development requires more\n",
        "- Improving knowledge of core functionality helps you write elegant code."
      ]
    },
    {
      "cell_type": "markdown",
      "metadata": {
        "id": "1Vl2Utw4jUyS"
      },
      "source": [
        "## Course Outline\n",
        "\n",
        "1. Variables\n",
        "2. Data Types\n",
        "3. Data Structures\n",
        "4. Control Flow\n",
        "5. Functions"
      ]
    },
    {
      "cell_type": "markdown",
      "metadata": {
        "id": "msBLXhnGjUyT"
      },
      "source": [
        "# Values, Variables and Types"
      ]
    },
    {
      "cell_type": "markdown",
      "metadata": {
        "id": "JN1WB_iwjUyU"
      },
      "source": [
        "## Workspace\n",
        "\n",
        "_A mental image if this is your first time programming_\n",
        "\n",
        "- When we start the Python \"session\", imagine we create an empty box.\n",
        "- We use commands, written into the cells of the notebook, to interact with this box.\n",
        "    - We can create objects that persist inside the box.\n",
        "    - We can modify objects inside the box.\n",
        "- We use the `print()` function to display these objects in the output."
      ]
    },
    {
      "cell_type": "markdown",
      "metadata": {
        "id": "TtiYglAOjUyW"
      },
      "source": [
        "## First Command: \"Hello World!\"\n",
        "\n",
        "Run the following command:"
      ]
    },
    {
      "cell_type": "code",
      "execution_count": null,
      "metadata": {
        "output-location": "column-fragment",
        "id": "HRXBsfvajUyY"
      },
      "outputs": [],
      "source": [
        "print(\"Hello World!\")"
      ]
    },
    {
      "cell_type": "markdown",
      "metadata": {
        "id": "5cxBMdWVjUyf"
      },
      "source": [
        "## Variable Assignment\n",
        "\n",
        "- Variables are names that point to particular objects in the box.\n",
        "- These objects can be values, functions, etc.\n",
        "- We assign variables with the `=` operator."
      ]
    },
    {
      "cell_type": "code",
      "execution_count": null,
      "metadata": {
        "output-location": "column-fragment",
        "id": "m5-9QqXUjUyh"
      },
      "outputs": [],
      "source": [
        "x = 1\n",
        "y = 2\n",
        "print(x)\n",
        "print(y)"
      ]
    },
    {
      "cell_type": "markdown",
      "metadata": {
        "id": "mqcSBFqcjUyi"
      },
      "source": [
        "## Aside: Variable Assignment Rules\n",
        "\n",
        "There are some rules for variable assignment:\n",
        "\n",
        "- Variable names cannot contain spaces\n"
      ]
    },
    {
      "cell_type": "code",
      "execution_count": 1,
      "metadata": {
        "output-location": "default",
        "colab": {
          "base_uri": "https://localhost:8080/",
          "height": 140
        },
        "id": "bDWegh8tjUyj",
        "outputId": "23d8b2b5-8bb3-4173-8330-49cb4ee82914"
      },
      "outputs": [
        {
          "output_type": "error",
          "ename": "SyntaxError",
          "evalue": "ignored",
          "traceback": [
            "\u001b[0;36m  File \u001b[0;32m\"<ipython-input-1-adb64006c3cd>\"\u001b[0;36m, line \u001b[0;32m1\u001b[0m\n\u001b[0;31m    a variable = \"this will give an error\"\u001b[0m\n\u001b[0m      ^\u001b[0m\n\u001b[0;31mSyntaxError\u001b[0m\u001b[0;31m:\u001b[0m invalid syntax\n"
          ]
        }
      ],
      "source": [
        "a variable = \"this will give an error\""
      ]
    },
    {
      "cell_type": "markdown",
      "metadata": {
        "id": "j0o0x7KPjUyk"
      },
      "source": [
        "- The first letter of the variable cannot be a number or symbol"
      ]
    },
    {
      "cell_type": "code",
      "execution_count": 2,
      "metadata": {
        "output-location": "default",
        "colab": {
          "base_uri": "https://localhost:8080/",
          "height": 140
        },
        "id": "_UWqmtivjUyl",
        "outputId": "b7204885-caf6-4086-b38c-0a8898d1ab38"
      },
      "outputs": [
        {
          "output_type": "error",
          "ename": "SyntaxError",
          "evalue": "ignored",
          "traceback": [
            "\u001b[0;36m  File \u001b[0;32m\"<ipython-input-2-3ad45e574701>\"\u001b[0;36m, line \u001b[0;32m1\u001b[0m\n\u001b[0;31m    1st_variable = \"this will also give an error\"\u001b[0m\n\u001b[0m    ^\u001b[0m\n\u001b[0;31mSyntaxError\u001b[0m\u001b[0;31m:\u001b[0m invalid decimal literal\n"
          ]
        }
      ],
      "source": [
        "1st_variable = \"this will also give an error\""
      ]
    },
    {
      "cell_type": "markdown",
      "metadata": {
        "id": "mQq55QU_jUym"
      },
      "source": [
        "Both of these return `SyntaxError` because the interpreter cannot understand these commands."
      ]
    },
    {
      "cell_type": "markdown",
      "metadata": {
        "id": "saqbyX2vjUym"
      },
      "source": [
        "# Data Types\n",
        "\n",
        "Here are four data types in base Python:\n",
        "\n",
        "- Integer `int`: whole numbers\n",
        "- Boolean `bool`: true/false values\n",
        "- Float `float`: rational numbers\n",
        "- String `str`: character sequences"
      ]
    },
    {
      "cell_type": "markdown",
      "metadata": {
        "id": "N09_jnKsjUyn"
      },
      "source": [
        "## Integers\n",
        "\n",
        "Integers (`int`) are whole numbers, positive or negative.\n",
        "\n",
        "- Created by writing a number without a `.`"
      ]
    },
    {
      "cell_type": "code",
      "execution_count": null,
      "metadata": {
        "id": "LsetxvxujUyn"
      },
      "outputs": [],
      "source": [
        "42\n",
        "0\n",
        "-15343"
      ]
    },
    {
      "cell_type": "markdown",
      "metadata": {
        "id": "7J6tKVD9jUyo"
      },
      "source": [
        "## Integer Operations\n",
        "\n",
        "- As seen, integers are assigned with the `=` operator."
      ]
    },
    {
      "cell_type": "code",
      "execution_count": null,
      "metadata": {
        "output-location": "default",
        "id": "SxQ5BvsgjUyp"
      },
      "outputs": [],
      "source": [
        "a = 5\n",
        "b = 13"
      ]
    },
    {
      "cell_type": "markdown",
      "metadata": {
        "id": "63qhVSMejUyr"
      },
      "source": [
        "- Arithmetic operations are as expected: `+`, `-`, `*`, `/`"
      ]
    },
    {
      "cell_type": "code",
      "execution_count": null,
      "metadata": {
        "output-location": "column-fragment",
        "id": "vtB5wGXejUys"
      },
      "outputs": [],
      "source": [
        "print(a + b)\n",
        "print(a - b)\n",
        "print(a * b)"
      ]
    },
    {
      "cell_type": "markdown",
      "metadata": {
        "id": "wjPveX4djUyt"
      },
      "source": [
        "- `==` tests equivalence."
      ]
    },
    {
      "cell_type": "code",
      "execution_count": null,
      "metadata": {
        "output-location": "column-fragment",
        "id": "Xx_oEvEqjUyt"
      },
      "outputs": [],
      "source": [
        "print(a == b)"
      ]
    },
    {
      "cell_type": "markdown",
      "metadata": {
        "id": "LK0F2ZkyjUyu"
      },
      "source": [
        "## Booleans\n",
        "\n",
        "- Booleans are True/False values.\n",
        "  - You saw them on the previous slide!\n",
        "- There are two Booleans: `True` and `False`."
      ]
    },
    {
      "cell_type": "markdown",
      "metadata": {
        "id": "CoOK2-6VjUyv"
      },
      "source": [
        "## Boolean Operators\n",
        "\n",
        "- `and`: logical _conjunction_"
      ]
    },
    {
      "cell_type": "code",
      "execution_count": null,
      "metadata": {
        "output-location": "column-fragment",
        "id": "lgZo0E5-jUyv"
      },
      "outputs": [],
      "source": [
        "print(True and True)\n",
        "print(True and False)\n",
        "print(False and True)\n",
        "print(False and False)"
      ]
    },
    {
      "cell_type": "markdown",
      "metadata": {
        "id": "Qk6bSE6IjUyx"
      },
      "source": [
        "- `or`: logical _disjunction_\n"
      ]
    },
    {
      "cell_type": "code",
      "execution_count": null,
      "metadata": {
        "output-location": "column-fragment",
        "id": "jxnmkA4ujUyx"
      },
      "outputs": [],
      "source": [
        "print(True or True)\n",
        "print(True or False)\n",
        "print(False or True)\n",
        "print(False or False)"
      ]
    },
    {
      "cell_type": "markdown",
      "metadata": {
        "id": "xGmVNNObjUyy"
      },
      "source": [
        "## Aside: Bools and 0, 1\n",
        "\n",
        "Booleans behave like the integers 0 and 1.\n"
      ]
    },
    {
      "cell_type": "code",
      "execution_count": null,
      "metadata": {
        "output-location": "column",
        "id": "J6O2c8YMjUyz"
      },
      "outputs": [],
      "source": [
        "True + True"
      ]
    },
    {
      "cell_type": "code",
      "execution_count": null,
      "metadata": {
        "output-location": "column",
        "id": "9Mo1CntFjUyz"
      },
      "outputs": [],
      "source": [
        "True * False"
      ]
    },
    {
      "cell_type": "code",
      "execution_count": null,
      "metadata": {
        "output-location": "column-fragment",
        "id": "5nNotZoMjUy0"
      },
      "outputs": [],
      "source": [
        "# What do you think will happen?\n",
        "False / False"
      ]
    },
    {
      "cell_type": "markdown",
      "metadata": {
        "id": "LRqqe-nGjUy0"
      },
      "source": [
        "## Floats\n",
        "\n",
        "- Floats are, technically, the representation of real numbers ($\\mathbb{R}$) in base 2.\n",
        "- For our purposes, all non-whole numbers are represented by floats.\n",
        "- Floats can be constructed using the `.` in a number:\n",
        "\n"
      ]
    },
    {
      "cell_type": "code",
      "execution_count": null,
      "metadata": {
        "id": "QPRSzKYejUy1"
      },
      "outputs": [],
      "source": [
        "x = 1.0\n",
        "y = 3.4"
      ]
    },
    {
      "cell_type": "markdown",
      "metadata": {
        "id": "LJI9veDIjUy2"
      },
      "source": [
        "## Integer Division\n",
        "\n",
        "Python also automatically converts the output of integer division to a float:\n",
        "\n"
      ]
    },
    {
      "cell_type": "code",
      "execution_count": null,
      "metadata": {
        "output-location": "column-fragment",
        "id": "jPX8IHfAjUy2"
      },
      "outputs": [],
      "source": [
        "print(1 / 3)\n",
        "print(3)\n",
        "print(3 / 1)"
      ]
    },
    {
      "cell_type": "markdown",
      "metadata": {
        "id": "2V8UTb4QjUy3"
      },
      "source": [
        "## Warning!!\n",
        "\n",
        "Floats can behave unpredictably.\n",
        "\n",
        "Note the following examples:\n"
      ]
    },
    {
      "cell_type": "code",
      "execution_count": null,
      "metadata": {
        "output-location": "column-fragment",
        "id": "gwe2lb-4jUy3"
      },
      "outputs": [],
      "source": [
        "10 * 0.1 * 3 == 3"
      ]
    },
    {
      "cell_type": "code",
      "execution_count": null,
      "metadata": {
        "output-location": "column-fragment",
        "id": "nZU-RmcUjUzL"
      },
      "outputs": [],
      "source": [
        "0.1 * 3 * 10 == 3"
      ]
    },
    {
      "cell_type": "code",
      "execution_count": null,
      "metadata": {
        "output-location": "column-fragment",
        "id": "NFFeb4-9jUzN"
      },
      "outputs": [],
      "source": [
        "0.1 * 3 == 0.3"
      ]
    },
    {
      "cell_type": "code",
      "execution_count": null,
      "metadata": {
        "output-location": "column-fragment",
        "id": "3wE-HW4qjUzO"
      },
      "outputs": [],
      "source": [
        "0.1 * 3"
      ]
    },
    {
      "cell_type": "markdown",
      "metadata": {
        "id": "uy5GKZe1jUzQ"
      },
      "source": [
        "See: [0.30000000000000004.com](https://0.30000000000000004.com/)"
      ]
    },
    {
      "cell_type": "markdown",
      "metadata": {
        "id": "k3ust8-FjUzR"
      },
      "source": [
        "## Strings\n",
        "\n",
        "Strings (`str`) are a _sequence of characters_."
      ]
    },
    {
      "cell_type": "markdown",
      "metadata": {
        "id": "IoM5C0IMjUzS"
      },
      "source": [
        "## Creation\n",
        "\n",
        "- Strings are created by writing a sequence of letters between _single **or** double_ quotes."
      ]
    },
    {
      "cell_type": "code",
      "execution_count": null,
      "metadata": {
        "id": "UtMsbwJVjUzS"
      },
      "outputs": [],
      "source": [
        "first_word = \"Hello\"\n",
        "second_word = 'World'\n",
        "first_punct = \"!\""
      ]
    },
    {
      "cell_type": "markdown",
      "metadata": {
        "id": "PmjDCdyGjUzT"
      },
      "source": [
        "## Equivalence\n",
        "\n",
        "- We can test equivalence using the `==` operator.\n",
        "\n"
      ]
    },
    {
      "cell_type": "code",
      "execution_count": null,
      "metadata": {
        "output-location": "column-fragment",
        "id": "-qUbTe4gjUzU"
      },
      "outputs": [],
      "source": [
        "print(first_word == first_word)\n",
        "print(first_word == second_word)"
      ]
    },
    {
      "cell_type": "markdown",
      "metadata": {
        "id": "xZleQAVIjUzV"
      },
      "source": [
        "## Concatenation\n",
        "\n",
        "Combine _strings_ with the `+` operator:\n",
        "\n",
        ""
      ]
    },
    {
      "cell_type": "code",
      "execution_count": null,
      "metadata": {
        "id": "SWii-O-_jUzV"
      },
      "outputs": [],
      "source": [
        "print(first_word + second_word + first_punct)"
      ]
    },
    {
      "cell_type": "markdown",
      "metadata": {
        "id": "EO9FfBvFjUzW"
      },
      "source": [
        "You can use variables and values together:"
      ]
    },
    {
      "cell_type": "code",
      "execution_count": null,
      "metadata": {
        "editable": true,
        "tags": [],
        "id": "7PgQTk-TjUzX"
      },
      "outputs": [],
      "source": [
        "print(first_word + \" \" + second_word + first_punct)"
      ]
    },
    {
      "cell_type": "markdown",
      "metadata": {
        "editable": true,
        "tags": [],
        "id": "uATlg7b3jUzX"
      },
      "source": [
        "## Indexing\n",
        "\n",
        "- Strings are a _sequence_.\n",
        "- Strings can be indexed by using the `[]` operator.\n",
        "- _Note that python counts from zero!_\n",
        "\n"
      ]
    },
    {
      "cell_type": "code",
      "execution_count": null,
      "metadata": {
        "editable": true,
        "tags": [],
        "id": "CtLBLMsTjUzZ"
      },
      "outputs": [],
      "source": [
        "the_word = \"bird\"\n",
        "\n",
        "print(the_word + \" is the word\")\n",
        "print(the_word[0] + \" is the first letter of the word\")\n",
        "print(the_word[1] + \" is the second letter of the word\")"
      ]
    },
    {
      "cell_type": "markdown",
      "metadata": {
        "editable": true,
        "tags": [],
        "id": "nW33SG6DjUza"
      },
      "source": [
        "## Slices\n",
        "\n",
        "- Use the `:` to return a range of values.\n",
        "- The range `[m:n]` returns from the (m+1)th letter to the nth letter.\n"
      ]
    },
    {
      "cell_type": "code",
      "execution_count": null,
      "metadata": {
        "editable": true,
        "tags": [],
        "id": "F72JzSWWjUzb"
      },
      "outputs": [],
      "source": [
        "print(the_word[0:2] + \" is the first two letters of the word\")\n",
        "print(the_word[1:3] + \" is the second and third letter of the word\")"
      ]
    },
    {
      "cell_type": "markdown",
      "metadata": {
        "editable": true,
        "tags": [],
        "id": "G4kiU444jUze"
      },
      "source": [
        "## Slices"
      ]
    },
    {
      "cell_type": "code",
      "execution_count": null,
      "metadata": {
        "editable": true,
        "output-location": "column-fragment",
        "tags": [],
        "id": "N5bNk5FajUze"
      },
      "outputs": [],
      "source": [
        "# What does this return?\n",
        "the_word[0:3] + the_word[0]"
      ]
    },
    {
      "cell_type": "markdown",
      "metadata": {
        "editable": true,
        "tags": [],
        "id": "tB0DuaNojUzf"
      },
      "source": [
        "## Negative Indexing\n",
        "\n",
        "- `[-1]` returns the last element of a sequence; in this case, the last character in a word.\n"
      ]
    },
    {
      "cell_type": "code",
      "execution_count": null,
      "metadata": {
        "editable": true,
        "output-location": "column-fragment",
        "tags": [],
        "id": "v9cAys7djUzg"
      },
      "outputs": [],
      "source": [
        "print(the_word[-1])"
      ]
    },
    {
      "cell_type": "markdown",
      "metadata": {
        "editable": true,
        "tags": [],
        "id": "hlKaKxsCjUzh"
      },
      "source": [
        "- We can use this to get the $n$ last values of a sequence:\n"
      ]
    },
    {
      "cell_type": "code",
      "execution_count": null,
      "metadata": {
        "editable": true,
        "output-location": "column-fragment",
        "tags": [],
        "id": "JAMMaqwajUzh"
      },
      "outputs": [],
      "source": [
        "print(the_word[-3:])"
      ]
    },
    {
      "cell_type": "markdown",
      "metadata": {
        "editable": true,
        "tags": [],
        "id": "tTzrXTWcjUzi"
      },
      "source": [
        "## Checking and Coercing Types\n",
        "\n",
        "- `type()` returns the type of an object.\n",
        "\n"
      ]
    },
    {
      "cell_type": "code",
      "execution_count": null,
      "metadata": {
        "editable": true,
        "output-location": "column-fragment",
        "tags": [],
        "id": "C46Nm9Q7jUzj"
      },
      "outputs": [],
      "source": [
        "type(15)"
      ]
    },
    {
      "cell_type": "markdown",
      "metadata": {
        "editable": true,
        "tags": [],
        "id": "rX7Me1tmjUzk"
      },
      "source": [
        "- The type of an object can be coerced by calling the a different type on the object.\n"
      ]
    },
    {
      "cell_type": "code",
      "execution_count": null,
      "metadata": {
        "editable": true,
        "output-location": "column-fragment",
        "tags": [],
        "id": "8MYaE71ojUzk"
      },
      "outputs": [],
      "source": [
        "type(float(15))"
      ]
    },
    {
      "cell_type": "markdown",
      "metadata": {
        "editable": true,
        "tags": [],
        "id": "EZ4IrxEJjUzl"
      },
      "source": [
        "## Checking and Coercing Types\n",
        "\n",
        "- Sometimes coercion is not possible:\n"
      ]
    },
    {
      "cell_type": "code",
      "execution_count": null,
      "metadata": {
        "editable": true,
        "output-location": "column-fragment",
        "tags": [],
        "id": "rN5C6aj9jUzm"
      },
      "outputs": [],
      "source": [
        "int('meow')"
      ]
    },
    {
      "cell_type": "markdown",
      "metadata": {
        "editable": true,
        "tags": [],
        "id": "1dJVxpU-jUzn"
      },
      "source": [
        "- And sometimes it is unpredictable"
      ]
    },
    {
      "cell_type": "code",
      "execution_count": null,
      "metadata": {
        "editable": true,
        "output-location": "column-fragment",
        "tags": [],
        "id": "205E8RnIjUzo"
      },
      "outputs": [],
      "source": [
        "print(bool('meow'))\n",
        "print(int(-0.99))\n",
        "print(str(False)==False)"
      ]
    },
    {
      "cell_type": "markdown",
      "metadata": {
        "editable": true,
        "tags": [],
        "id": "2Zc66WFSjUzp"
      },
      "source": [
        "# Data Structures\n",
        "\n",
        "- **Data types** concern the representation of individual data points, or observations.\n",
        "- **Data structures** concern the relations between observations.\n",
        "    - Are the data points members of the same set?\n",
        "    - Are the data points members of the same sequence?\n",
        "    - Are the data points different features of single empirical unit?"
      ]
    },
    {
      "cell_type": "markdown",
      "metadata": {
        "editable": true,
        "tags": [],
        "id": "XDt4uZHQjUzq"
      },
      "source": [
        "## Two Python Data Structures\n",
        "\n",
        "- Lists (`list`): ordered array\n",
        "- Dictionaries (`dict`): key-value mapping"
      ]
    },
    {
      "cell_type": "markdown",
      "metadata": {
        "editable": true,
        "tags": [],
        "id": "w9clzPhbjUzr"
      },
      "source": [
        "## Lists\n",
        "\n",
        "Lists are a type of data container in base Python. Lists are:\n",
        "\n",
        "- 1-dimensional\n",
        "- Ordered and indexed\n",
        "- Mutable\n",
        "- Able to contain any (type of) object\\n\\n\n",
        "\n",
        "To create a list, write a sequence of values separated by commas between square brackets:"
      ]
    },
    {
      "cell_type": "code",
      "execution_count": null,
      "metadata": {
        "editable": true,
        "tags": [],
        "id": "gng3LHjVjUzr"
      },
      "outputs": [],
      "source": [
        "my_list = [1, 2, 3]  # only integers\n",
        "my_list = [1, 2.0, '3']  # integer, float and string"
      ]
    },
    {
      "cell_type": "markdown",
      "metadata": {
        "editable": true,
        "tags": [],
        "id": "KrZrAu7QjUzt"
      },
      "source": [
        "## Indexing and Slicing Lists\n",
        "\n",
        "- Lists can be indexed in the same way as strings, using the `list[m:n]` notation.\n",
        "- `list[0]` returns the first value of the list\n"
      ]
    },
    {
      "cell_type": "code",
      "execution_count": null,
      "metadata": {
        "editable": true,
        "output-location": "column-fragment",
        "tags": [],
        "id": "-HSAodzJjUzu"
      },
      "outputs": [],
      "source": [
        "my_list = [1, 2.0, '3']\n",
        "print(my_list[0])"
      ]
    },
    {
      "cell_type": "markdown",
      "metadata": {
        "editable": true,
        "tags": [],
        "id": "F1fyjjvSjUzu"
      },
      "source": [
        "- `list[1:3]` returns a list containing the second and third value of the list\n"
      ]
    },
    {
      "cell_type": "code",
      "execution_count": null,
      "metadata": {
        "editable": true,
        "output-location": "column-fragment",
        "tags": [],
        "id": "kHsZIO5FjUzv"
      },
      "outputs": [],
      "source": [
        "print(my_list[1:3])"
      ]
    },
    {
      "cell_type": "markdown",
      "metadata": {
        "editable": true,
        "tags": [],
        "id": "bsyAvMrejUzw"
      },
      "source": [
        "## Growing Lists\n",
        "\n",
        "- Use `len()` to get the length of a `list`\n"
      ]
    },
    {
      "cell_type": "code",
      "execution_count": null,
      "metadata": {
        "editable": true,
        "output-location": "column-fragment",
        "tags": [],
        "id": "D6XhH8MCjUzy"
      },
      "outputs": [],
      "source": [
        "len(my_list)"
      ]
    },
    {
      "cell_type": "markdown",
      "metadata": {
        "editable": true,
        "tags": [],
        "id": "h2UOsed0jUzz"
      },
      "source": [
        "- Use `.append()` to add an element at the end\n"
      ]
    },
    {
      "cell_type": "code",
      "execution_count": null,
      "metadata": {
        "editable": true,
        "output-location": "column-fragment",
        "tags": [],
        "id": "HiUF7G9pjUz0"
      },
      "outputs": [],
      "source": [
        "my_list.append(4)\n",
        "print(my_list)"
      ]
    },
    {
      "cell_type": "markdown",
      "metadata": {
        "editable": true,
        "tags": [],
        "id": "KKjLBQzMjUz0"
      },
      "source": [
        "- Adding lists concatenates them:\n"
      ]
    },
    {
      "cell_type": "code",
      "execution_count": null,
      "metadata": {
        "editable": true,
        "output-location": "column-fragment",
        "tags": [],
        "id": "zd1K9xqKjUz1"
      },
      "outputs": [],
      "source": [
        "my_list + ['fivesixseven8']"
      ]
    },
    {
      "cell_type": "markdown",
      "metadata": {
        "editable": true,
        "tags": [],
        "id": "bJpHK33VjUz2"
      },
      "source": [
        "## Removing Items\n",
        "\n",
        "- Use `.pop()` to remove the final element\n",
        "  - NB: `.pop()` also returns the final element\n"
      ]
    },
    {
      "cell_type": "code",
      "execution_count": null,
      "metadata": {
        "editable": true,
        "output-location": "column-fragment",
        "tags": [],
        "id": "5cI833T-jUz3"
      },
      "outputs": [],
      "source": [
        "last_element = my_list.pop()\n",
        "print(last_element)\n",
        "print(my_list)"
      ]
    },
    {
      "cell_type": "markdown",
      "metadata": {
        "editable": true,
        "tags": [],
        "id": "abkzvQCJjUz4"
      },
      "source": [
        "## Changing Values in Lists\\n\\n\n",
        "We can assign or reassign values using `=` and indexers:\n"
      ]
    },
    {
      "cell_type": "code",
      "execution_count": null,
      "metadata": {
        "editable": true,
        "output-location": "column-fragment",
        "tags": [],
        "id": "PZvI8xO1jUz5"
      },
      "outputs": [],
      "source": [
        "x = ['a', 't', 'e']\n",
        "print(x)"
      ]
    },
    {
      "cell_type": "code",
      "execution_count": null,
      "metadata": {
        "editable": true,
        "output-location": "column-fragment",
        "tags": [],
        "id": "vWC-MuzsjUz7"
      },
      "outputs": [],
      "source": [
        "x[0] = 'A'\n",
        "x[1] = 'T'\n",
        "print(x)"
      ]
    },
    {
      "cell_type": "markdown",
      "metadata": {
        "editable": true,
        "tags": [],
        "id": "GlWakbAfjUz8"
      },
      "source": [
        "\n",
        "\n",
        "We can also replace slices:"
      ]
    },
    {
      "cell_type": "code",
      "execution_count": null,
      "metadata": {
        "editable": true,
        "output-location": "column-fragment",
        "tags": [],
        "id": "SI8bPb2VjUz9"
      },
      "outputs": [],
      "source": [
        "x[0:2] = ['a', 't']\n",
        "print(x)"
      ]
    },
    {
      "cell_type": "markdown",
      "metadata": {
        "editable": true,
        "tags": [],
        "id": "Qtef52-cjUz_"
      },
      "source": [
        "## Dictionaries\n",
        "\n",
        "- Dictionaries are an unordered mapping of _keys_ to _values_.\n",
        "- Created by writing a list of `key:value` pairs separated by commas between `{}`.\n",
        "\n"
      ]
    },
    {
      "cell_type": "code",
      "execution_count": null,
      "metadata": {
        "editable": true,
        "tags": [],
        "id": "bXyxEoxbjU0A"
      },
      "outputs": [],
      "source": [
        "favourite_icecream = {\n",
        "    \"Musashi\": \"chocolate\",\n",
        "    \"Maria\": \"dulce de leche\"\n",
        "}"
      ]
    },
    {
      "cell_type": "markdown",
      "metadata": {
        "editable": true,
        "tags": [],
        "id": "zjG7xPGZjU0B"
      },
      "source": [
        "## Retrieving Values\n",
        "\n",
        "- Values are accessed with `dict_name[key]`\n",
        "\n",
        ""
      ]
    },
    {
      "cell_type": "code",
      "execution_count": null,
      "metadata": {
        "editable": true,
        "tags": [],
        "id": "nJCPv0GrjU0C"
      },
      "outputs": [],
      "source": [
        "print(favourite_icecream['Musashi'])\n",
        "print(favourite_icecream['Maria'])"
      ]
    },
    {
      "cell_type": "markdown",
      "metadata": {
        "editable": true,
        "tags": [],
        "id": "YEdRVoDrjU0E"
      },
      "source": [
        "## Modifying Dictionaries\n",
        "\n",
        "- New key-value pairs can be added or modified with `=`\n",
        "\n"
      ]
    },
    {
      "cell_type": "code",
      "execution_count": null,
      "metadata": {
        "editable": true,
        "tags": [],
        "id": "Jtj5a4jwjU0G"
      },
      "outputs": [],
      "source": [
        "favourite_icecream['Chris'] = 'pistachio'\n",
        "favourite_icecream['Musashi'] = 'green tea'\n",
        "\n",
        "print(favourite_icecream['Musashi'])\n",
        "print(favourite_icecream['Chris'])"
      ]
    },
    {
      "cell_type": "markdown",
      "metadata": {
        "editable": true,
        "tags": [],
        "id": "ilL2P46wjU0G"
      },
      "source": [
        "## Accessing All Keys or Values\n",
        "\n",
        "To view all of the keys or values in a dictionary, you can use the following _methods_:\n",
        "\n"
      ]
    },
    {
      "cell_type": "code",
      "execution_count": null,
      "metadata": {
        "editable": true,
        "output-location": "column-fragment",
        "tags": [],
        "id": "pxhpWA9zjU0H"
      },
      "outputs": [],
      "source": [
        "print(favourite_icecream.keys())"
      ]
    },
    {
      "cell_type": "code",
      "execution_count": null,
      "metadata": {
        "editable": true,
        "output-location": "column-fragment",
        "tags": [],
        "id": "KTLPGMXBjU0I"
      },
      "outputs": [],
      "source": [
        "print(favourite_icecream.values())"
      ]
    },
    {
      "cell_type": "code",
      "execution_count": null,
      "metadata": {
        "editable": true,
        "output-location": "column-fragment",
        "tags": [],
        "id": "dze2MESpjU0I"
      },
      "outputs": [],
      "source": [
        "print(favourite_icecream.items())"
      ]
    },
    {
      "cell_type": "markdown",
      "metadata": {
        "editable": true,
        "tags": [],
        "id": "_g-L5nuejU0J"
      },
      "source": [
        "# Control Flow\n",
        "\n",
        "- Control flow structures specify whether and in what order to run blocks of our code.\n",
        "- We focus on two:\n",
        "    - Conditional execution\n",
        "    - Iteration (For loops)"
      ]
    },
    {
      "cell_type": "markdown",
      "metadata": {
        "editable": true,
        "tags": [],
        "id": "vzhR5ZCOjU0K"
      },
      "source": [
        "## Conditional Execution\n",
        "\n",
        "- In Python, to execute code conditionally, we use the following syntax:"
      ]
    },
    {
      "cell_type": "code",
      "execution_count": null,
      "metadata": {
        "editable": true,
        "output-location": "default",
        "tags": [],
        "id": "QLpeI968jU0K"
      },
      "outputs": [],
      "source": [
        "if CONDITION:\n",
        "    RUN_COMMAND"
      ]
    },
    {
      "cell_type": "markdown",
      "metadata": {
        "editable": true,
        "tags": [],
        "id": "iHeTmWlojU0K"
      },
      "source": [
        "- If `CONDITION` is `True`, then `RUN_COMMAND` is executed."
      ]
    },
    {
      "cell_type": "markdown",
      "metadata": {
        "editable": true,
        "tags": [],
        "id": "BAgrxjb6jU0L"
      },
      "source": [
        "## Absolute Value\n",
        "\n",
        "- Suppose we want the absolute value of a number.\n",
        "- \"if number is negative, then multiply by -1\"\n",
        "- We can write it as follows:"
      ]
    },
    {
      "cell_type": "code",
      "execution_count": null,
      "metadata": {
        "editable": true,
        "tags": [],
        "id": "Sg2ik1WIjU0L"
      },
      "outputs": [],
      "source": [
        "number = -2\n",
        "\n",
        "if number < 0:\n",
        "    number = number * -1\n",
        "\n",
        "print(\"Absolute value is\", number)"
      ]
    },
    {
      "cell_type": "markdown",
      "metadata": {
        "editable": true,
        "tags": [],
        "id": "HbOob_xAjU0M"
      },
      "source": [
        "## If/Else\n",
        "\n",
        "- We specify what happens if `CONDITION` evaluates `False` using the `else` command.\n"
      ]
    },
    {
      "cell_type": "code",
      "execution_count": null,
      "metadata": {
        "editable": true,
        "tags": [],
        "id": "vK5dMxKRjU0M"
      },
      "outputs": [],
      "source": [
        "language_to_learn = \"Python\"\n",
        "\n",
        "if language_to_learn == \"Python\":\n",
        "    print(\"You are in the right place!\")\n",
        "else:\n",
        "    print(\"You might be lost!\")"
      ]
    },
    {
      "cell_type": "markdown",
      "metadata": {
        "editable": true,
        "tags": [],
        "id": "luTAoGFcjU0M"
      },
      "source": [
        "## If/Elif/Else\n",
        "\n",
        "- `elif` evaluates if the previous `if` or `elif` is `False`\n",
        "- and executes if the statement evaluates `True`.\n"
      ]
    },
    {
      "cell_type": "code",
      "execution_count": null,
      "metadata": {
        "editable": true,
        "tags": [],
        "id": "MAuGie36jU0N"
      },
      "outputs": [],
      "source": [
        "language_to_learn = \"Julia\"\n",
        "\n",
        "if language_to_learn == \"Python\":\n",
        "    print(\"You are in the right place!\")\n",
        "elif language_to_learn == \"Julia\":\n",
        "    print(\"Hertie should offer Julia!\")\n",
        "elif language_to_learn == \"R\":\n",
        "    print(\"You should learn a better coding language!\")\n",
        "else:\n",
        "    print(\"You might be lost!\")"
      ]
    },
    {
      "cell_type": "markdown",
      "metadata": {
        "editable": true,
        "tags": [],
        "id": "ppgTkYHWjU0N"
      },
      "source": [
        "## For Loops\n",
        "\n",
        "- A for-loop is a logical structure composed of two parts: an iterable and an action.\n",
        "- In python, they are written as follows:\n"
      ]
    },
    {
      "cell_type": "code",
      "execution_count": null,
      "metadata": {
        "editable": true,
        "tags": [],
        "id": "-1auDqPLjU0O"
      },
      "outputs": [],
      "source": [
        "for i in ITERABLE:\n",
        "    RUN_COMMAND"
      ]
    },
    {
      "cell_type": "markdown",
      "metadata": {
        "editable": true,
        "tags": [],
        "id": "SeamtPIijU0P"
      },
      "source": [
        "## Simple Example"
      ]
    },
    {
      "cell_type": "code",
      "execution_count": null,
      "metadata": {
        "editable": true,
        "tags": [],
        "id": "0mouWWsqjU0P"
      },
      "outputs": [],
      "source": [
        "for number in [1, 2, 3, 4, 5, 6, 7]:\n",
        "    print(number, \"+\", number, \"=\", number+number)"
      ]
    },
    {
      "cell_type": "markdown",
      "metadata": {
        "editable": true,
        "tags": [],
        "id": "dBodv43mjU0P"
      },
      "source": [
        "## Incrementing a Counter"
      ]
    },
    {
      "cell_type": "code",
      "execution_count": null,
      "metadata": {
        "editable": true,
        "tags": [],
        "id": "YWGag8TqjU0Q"
      },
      "outputs": [],
      "source": [
        "counter = 1\n",
        "for number in [1, 2, 3, 4, 5, 6, 7]:\n",
        "    print(number, \"*\", counter, \"=\", number*counter)\n",
        "    counter = counter*number"
      ]
    },
    {
      "cell_type": "markdown",
      "metadata": {
        "editable": true,
        "tags": [],
        "id": "MOdbADD2jU0Q"
      },
      "source": [
        "# Functions"
      ]
    },
    {
      "cell_type": "markdown",
      "metadata": {
        "editable": true,
        "tags": [],
        "id": "ORLbLsikjU0R"
      },
      "source": [
        "## Defining Functions\n",
        "\n",
        "Here's a simple function that adds 1 to the input:"
      ]
    },
    {
      "cell_type": "code",
      "execution_count": null,
      "metadata": {
        "editable": true,
        "tags": [],
        "id": "TehhL29rjU0R"
      },
      "outputs": [],
      "source": [
        "def add_one(x):\n",
        "    y = x+1\n",
        "    return y"
      ]
    },
    {
      "cell_type": "markdown",
      "metadata": {
        "editable": true,
        "tags": [],
        "id": "6jiQ6qaojU0R"
      },
      "source": [
        "- The command `def` followed by a space tells Python that you are defining a function.\n",
        "- This function is given the name followed by `def`; in this case `add_one`.\n",
        "- The _arguments_ of the function are given after the function name, inside `()`.\n",
        "- The `:` says that the definition line is done. The following line must be indented by four spaces."
      ]
    },
    {
      "cell_type": "markdown",
      "metadata": {
        "editable": true,
        "tags": [],
        "id": "weviJqAFjU0S"
      },
      "source": [
        "## Namespaces\n",
        "\n",
        "- Python has _namespaces_ for variables.\n",
        "- There are multiple levels of namespace, but the two relevant to you are _local_ and _global_.\n",
        "- Variables defined _within_ a function are created within the _local_ namespace of that function.\n",
        "    - This means that they are only accessible from within the function.\n",
        "- Variables defined _outside_ a function are created within the _global_ namespace.\n",
        "- If a function contains a reference to a variable, it will first check to see whether the variable exists in the _local_ namespace, and then the _global_ one."
      ]
    },
    {
      "cell_type": "markdown",
      "metadata": {
        "editable": true,
        "tags": [],
        "id": "tpKU986GjU0S"
      },
      "source": [
        "## Namespace Examples\n",
        "\n",
        "_Clearing the environment first_"
      ]
    },
    {
      "cell_type": "code",
      "execution_count": null,
      "metadata": {
        "editable": true,
        "tags": [],
        "id": "_VnZ3xE7jU0T"
      },
      "outputs": [],
      "source": [
        "%reset -f"
      ]
    },
    {
      "cell_type": "markdown",
      "metadata": {
        "editable": true,
        "tags": [],
        "id": "yZ_oWn_9jU0T"
      },
      "source": [
        "## Local Variables not Accessibly Globally\n",
        "\n",
        "The following code will result in an error:\n"
      ]
    },
    {
      "cell_type": "code",
      "execution_count": null,
      "metadata": {
        "editable": true,
        "tags": [],
        "id": "AgOOE4A2jU0U"
      },
      "outputs": [],
      "source": [
        "def f(x):\n",
        "    y = 5\n",
        "    return x + y\n",
        "\n",
        "print(y)"
      ]
    },
    {
      "cell_type": "markdown",
      "metadata": {
        "editable": true,
        "tags": [],
        "id": "gI2VOLt2jU0U"
      },
      "source": [
        "## Local Accessed Before Global\n",
        "\n",
        "The following code will return the _local_ value of `y`, thus returning 10.\n"
      ]
    },
    {
      "cell_type": "code",
      "execution_count": null,
      "metadata": {
        "editable": true,
        "tags": [],
        "id": "Jrc7tTM3jU0V"
      },
      "outputs": [],
      "source": [
        "y = 0\n",
        "\n",
        "def f(x):\n",
        "    y = 5\n",
        "    return x + y\n",
        "\n",
        "print(f(5))"
      ]
    },
    {
      "cell_type": "markdown",
      "metadata": {
        "editable": true,
        "tags": [],
        "id": "VFFw4UmKjU0V"
      },
      "source": [
        "## Functions Reading from Global Variables\n",
        "\n",
        "The following code uses `y`, which is defined globally. Therefore it returns 7."
      ]
    },
    {
      "cell_type": "code",
      "execution_count": null,
      "metadata": {
        "editable": true,
        "tags": [],
        "id": "opKYSN24jU0V"
      },
      "outputs": [],
      "source": [
        "y = 2\n",
        "\n",
        "def f(x):\n",
        "    return x + y\n",
        "\n",
        "print(f(5))"
      ]
    },
    {
      "cell_type": "markdown",
      "metadata": {
        "editable": true,
        "tags": [],
        "id": "24zhEUkFjU0W"
      },
      "source": [
        "## `Lambda` Functions\n",
        "\n",
        "Python has _lambda functions_. These are essentially a way to define a function in-line. Below, the function `f` is equivalent to the line `lambda x: x+1`."
      ]
    },
    {
      "cell_type": "code",
      "execution_count": null,
      "metadata": {
        "editable": true,
        "tags": [],
        "id": "aHigEr87jU0W"
      },
      "outputs": [],
      "source": [
        "def f(x):\n",
        "    return x+1\n",
        "\n",
        "lambda x: x+1"
      ]
    },
    {
      "cell_type": "markdown",
      "metadata": {
        "editable": true,
        "tags": [],
        "id": "HVIOjZn3jU0W"
      },
      "source": [
        "# Recap"
      ]
    },
    {
      "cell_type": "markdown",
      "metadata": {
        "editable": true,
        "tags": [],
        "id": "9OcHEgUGjU0X"
      },
      "source": [
        "## We covered a lot!\n",
        "\n",
        "- 4 Data Types\n",
        "  - `int`: whole numbers\n",
        "  - `float`: rational numbers. Unexpected behavior.\n",
        "  - `bool`: True/False values\n",
        "  - `str`: Character sequence. Behaves like sequence.\n",
        "- 2 data structures\n",
        "  - Lists: ordered sequence of values\n",
        "  - Dictionaries: mapping of key to value\n",
        "- 2 control flow structures\n",
        "  - Conditional execution: `if`/`elif`/`else`\n",
        "  - Iteration: for-loops\n",
        "- How to write functions"
      ]
    },
    {
      "cell_type": "markdown",
      "metadata": {
        "editable": true,
        "tags": [],
        "id": "tU29lcwjjU0X"
      },
      "source": [
        "## Question Time"
      ]
    },
    {
      "cell_type": "markdown",
      "metadata": {
        "editable": true,
        "tags": [],
        "id": "LZHGTQm7jU0X"
      },
      "source": [
        "# Break"
      ]
    },
    {
      "cell_type": "code",
      "execution_count": null,
      "metadata": {
        "editable": true,
        "tags": [],
        "id": "cIa4INFTjU0Y"
      },
      "outputs": [],
      "source": []
    }
  ],
  "metadata": {
    "kernelspec": {
      "display_name": "Python 3 (ipykernel)",
      "language": "python",
      "name": "python3"
    },
    "language_info": {
      "codemirror_mode": {
        "name": "ipython",
        "version": 3
      },
      "file_extension": ".py",
      "mimetype": "text/x-python",
      "name": "python",
      "nbconvert_exporter": "python",
      "pygments_lexer": "ipython3",
      "version": "3.11.4"
    },
    "colab": {
      "provenance": []
    }
  },
  "nbformat": 4,
  "nbformat_minor": 0
}